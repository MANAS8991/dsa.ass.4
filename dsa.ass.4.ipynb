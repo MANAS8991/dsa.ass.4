{
 "cells": [
  {
   "cell_type": "markdown",
   "id": "7edd6358",
   "metadata": {},
   "source": [
    "#  **Question 1**\n",
    "# Given three integer arrays arr1, arr2 and arr3 **sorted** in **strictly increasing** order, return a sorted array of **only** the integers that appeared in **all** three arrays.\n",
    "\n",
    "# **Example 1:**\n",
    "\n",
    "# Input: arr1 = [1,2,3,4,5], arr2 = [1,2,5,7,9], arr3 = [1,3,4,5,8]\n",
    "\n",
    "# Output: [1,5]\n",
    "\n",
    "# **Explanation:** Only 1 and 5 appeared in the three arrays."
   ]
  },
  {
   "cell_type": "code",
   "execution_count": 1,
   "id": "a2914c28",
   "metadata": {},
   "outputs": [
    {
     "name": "stdout",
     "output_type": "stream",
     "text": [
      "Result: [1, 5]\n"
     ]
    }
   ],
   "source": [
    "def commonElements(arr1, arr2, arr3):\n",
    "    set1 = set(arr1)\n",
    "    set2 = set(arr2)\n",
    "    set3 = set(arr3)\n",
    "\n",
    "    # Find the common elements using set intersection\n",
    "    result = list(set1.intersection(set2, set3))\n",
    "\n",
    "    # Sort the result in ascending order\n",
    "    result.sort()\n",
    "\n",
    "    return result\n",
    "\n",
    "# Test the function\n",
    "arr1 = [1, 2, 3, 4, 5]\n",
    "arr2 = [1, 2, 5, 7, 9]\n",
    "arr3 = [1, 3, 4, 5, 8]\n",
    "\n",
    "result = commonElements(arr1, arr2, arr3)\n",
    "print(\"Result:\", result)\n"
   ]
  },
  {
   "cell_type": "markdown",
   "id": "fc3d9310",
   "metadata": {},
   "source": [
    "# **Question 2**\n",
    "\n",
    "# Given two **0-indexed** integer arrays nums1 and nums2, return *a list* answer *of size* 2 *where:*\n",
    "\n",
    "# - answer[0] *is a list of all **distinct** integers in* nums1 *which are **not** present in* nums2*.*\n",
    "# - answer[1] *is a list of all **distinct** integers in* nums2 *which are **not** present in* nums1.\n",
    "\n",
    "# **Note** that the integers in the lists may be returned in **any** order.\n",
    "\n",
    "# **Example 1:**\n",
    "\n",
    "# **Input:** nums1 = [1,2,3], nums2 = [2,4,6]\n",
    "\n",
    "# **Output:** [[1,3],[4,6]]\n",
    "\n",
    "# **Explanation:**\n",
    "\n",
    "# For nums1, nums1[1] = 2 is present at index 0 of nums2, whereas nums1[0] = 1 and nums1[2] = 3 are not present in nums2. Therefore, answer[0] = [1,3].\n",
    "\n",
    "# For nums2, nums2[0] = 2 is present at index 1 of nums1, whereas nums2[1] = 4 and nums2[2] = 6 are not present in nums2. Therefore, answer[1] = [4,6]."
   ]
  },
  {
   "cell_type": "code",
   "execution_count": 2,
   "id": "efb19620",
   "metadata": {},
   "outputs": [
    {
     "name": "stdout",
     "output_type": "stream",
     "text": [
      "Result: [[1, 3], [4, 6]]\n"
     ]
    }
   ],
   "source": [
    "def findDisjoint(nums1, nums2):\n",
    "    set1 = set(nums1)\n",
    "    set2 = set(nums2)\n",
    "\n",
    "    # Find distinct integers in nums1 that are not present in nums2\n",
    "    distinct_nums1 = list(set1.difference(set2))\n",
    "\n",
    "    # Find distinct integers in nums2 that are not present in nums1\n",
    "    distinct_nums2 = list(set2.difference(set1))\n",
    "\n",
    "    return [distinct_nums1, distinct_nums2]\n",
    "\n",
    "# Test the function\n",
    "nums1 = [1, 2, 3]\n",
    "nums2 = [2, 4, 6]\n",
    "\n",
    "result = findDisjoint(nums1, nums2)\n",
    "print(\"Result:\", result)\n"
   ]
  },
  {
   "cell_type": "markdown",
   "id": "7c96abfb",
   "metadata": {},
   "source": [
    "#  **Question 3**\n",
    "# Given a 2D integer array matrix, return *the **transpose** of* matrix.\n",
    "\n",
    "# The **transpose** of a matrix is the matrix flipped over its main diagonal, switching the matrix's row and column indices.\n",
    "\n",
    "# **Example 1:**\n",
    "\n",
    "# Input: matrix = [[1,2,3],[4,5,6],[7,8,9]]\n",
    "\n",
    "# Output: [[1,4,7],[2,5,8],[3,6,9]]"
   ]
  },
  {
   "cell_type": "code",
   "execution_count": 3,
   "id": "65278184",
   "metadata": {},
   "outputs": [
    {
     "name": "stdout",
     "output_type": "stream",
     "text": [
      "Result: [[1, 4, 7], [2, 5, 8], [3, 6, 9]]\n"
     ]
    }
   ],
   "source": [
    "def transposeMatrix(matrix):\n",
    "    # Get the number of rows and columns in the matrix\n",
    "    rows = len(matrix)\n",
    "    cols = len(matrix[0])\n",
    "\n",
    "    # Create a new matrix with swapped rows and columns\n",
    "    transposed_matrix = [[0 for _ in range(rows)] for _ in range(cols)]\n",
    "\n",
    "    # Swap elements at each pair of indices (i, j) with (j, i)\n",
    "    for i in range(rows):\n",
    "        for j in range(cols):\n",
    "            transposed_matrix[j][i] = matrix[i][j]\n",
    "\n",
    "    return transposed_matrix\n",
    "\n",
    "# Test the function\n",
    "matrix = [[1, 2, 3], [4, 5, 6], [7, 8, 9]]\n",
    "\n",
    "result = transposeMatrix(matrix)\n",
    "print(\"Result:\", result)\n"
   ]
  },
  {
   "cell_type": "markdown",
   "id": "e0749362",
   "metadata": {},
   "source": [
    "# **Question 4**\n",
    "# Given an integer array nums of 2n integers, group these integers into n pairs (a1, b1), (a2, b2), ..., (an, bn) such that the sum of min(ai, bi) for all i is **maximized**. Return *the maximized sum*.\n",
    "\n",
    "# **Example 1:**\n",
    "\n",
    "# Input: nums = [1,4,3,2]\n",
    "\n",
    "# Output: 4\n",
    "\n",
    "# **Explanation:** All possible pairings (ignoring the ordering of elements) are:\n",
    "\n",
    "# 1. (1, 4), (2, 3) -> min(1, 4) + min(2, 3) = 1 + 2 = 3\n",
    "\n",
    "# 2. (1, 3), (2, 4) -> min(1, 3) + min(2, 4) = 1 + 2 = 3\n",
    "\n",
    "# 3. (1, 2), (3, 4) -> min(1, 2) + min(3, 4) = 1 + 3 = 4\n",
    "\n",
    "# So the maximum possible sum is 4"
   ]
  },
  {
   "cell_type": "code",
   "execution_count": 4,
   "id": "f9d86454",
   "metadata": {},
   "outputs": [
    {
     "name": "stdout",
     "output_type": "stream",
     "text": [
      "Result: 4\n"
     ]
    }
   ],
   "source": [
    "def arrayPairSum(nums):\n",
    "    nums.sort()  # Sort the array in ascending order\n",
    "    n = len(nums)\n",
    "    total_sum = 0\n",
    "\n",
    "    # Pair adjacent elements and sum the minimum element in each pair\n",
    "    for i in range(0, n, 2):\n",
    "        total_sum += nums[i]\n",
    "\n",
    "    return total_sum\n",
    "\n",
    "# Test the function\n",
    "nums = [1, 4, 3, 2]\n",
    "\n",
    "result = arrayPairSum(nums)\n",
    "print(\"Result:\", result)\n"
   ]
  },
  {
   "cell_type": "markdown",
   "id": "9ccfb32a",
   "metadata": {},
   "source": [
    "#  **Question 5**\n",
    "# You have n coins and you want to build a staircase with these coins. The staircase consists of k rows where the ith row has exactly i coins. The last row of the staircase **may be** incomplete.\n",
    "\n",
    "# Given the integer n, return *the number of **complete rows** of the staircase you will build*.\n",
    "\n",
    "# **Example 1:**\n",
    "\n",
    "# []()\n",
    "\n",
    "# ![v2.jpg](https://s3-us-west-2.amazonaws.com/secure.notion-static.com/4bd91cfa-d2b1-47b3-8197-a72e8dcfff4b/v2.jpg)\n",
    "\n",
    "# **Input:** n = 5\n",
    "\n",
    "# **Output:** 2\n",
    "\n",
    "# **Explanation:** Because the 3rd row is incomplete, we return 2."
   ]
  },
  {
   "cell_type": "code",
   "execution_count": 5,
   "id": "0730461c",
   "metadata": {},
   "outputs": [
    {
     "name": "stdout",
     "output_type": "stream",
     "text": [
      "Number of complete rows: 2\n"
     ]
    }
   ],
   "source": [
    "def arrangeCoins(n):\n",
    "    # Using binary search to find the maximum complete row\n",
    "    left = 0\n",
    "    right = n\n",
    "\n",
    "    while left <= right:\n",
    "        mid = left + (right - left) // 2\n",
    "        total = (mid * (mid + 1)) // 2\n",
    "\n",
    "        if total == n:\n",
    "            return mid\n",
    "\n",
    "        if total < n:\n",
    "            left = mid + 1\n",
    "        else:\n",
    "            right = mid - 1\n",
    "\n",
    "    return right\n",
    "\n",
    "# Test the function\n",
    "n = 5\n",
    "\n",
    "result = arrangeCoins(n)\n",
    "print(\"Number of complete rows:\", result)\n"
   ]
  },
  {
   "cell_type": "markdown",
   "id": "3e595259",
   "metadata": {},
   "source": [
    "#  **Question 6**\n",
    "# Given an integer array nums sorted in **non-decreasing** order, return *an array of **the squares of each number** sorted in non-decreasing order*.\n",
    "\n",
    "# **Example 1:**\n",
    "\n",
    "# Input: nums = [-4,-1,0,3,10]\n",
    "\n",
    "# Output: [0,1,9,16,100]\n",
    "\n",
    "# **Explanation:** After squaring, the array becomes [16,1,0,9,100].\n",
    "# After sorting, it becomes [0,1,9,16,100]"
   ]
  },
  {
   "cell_type": "code",
   "execution_count": 6,
   "id": "c521897d",
   "metadata": {},
   "outputs": [
    {
     "name": "stdout",
     "output_type": "stream",
     "text": [
      "Sorted Squares: [0, 1, 9, 16, 100]\n"
     ]
    }
   ],
   "source": [
    "def sortedSquares(nums):\n",
    "    n = len(nums)\n",
    "    result = [0] * n\n",
    "    left = 0\n",
    "    right = n - 1\n",
    "    index = n - 1\n",
    "\n",
    "    while left <= right:\n",
    "        left_square = nums[left] * nums[left]\n",
    "        right_square = nums[right] * nums[right]\n",
    "\n",
    "        if left_square > right_square:\n",
    "            result[index] = left_square\n",
    "            left += 1\n",
    "        else:\n",
    "            result[index] = right_square\n",
    "            right -= 1\n",
    "\n",
    "        index -= 1\n",
    "\n",
    "    return result\n",
    "\n",
    "# Test the function\n",
    "nums = [-4, -1, 0, 3, 10]\n",
    "result = sortedSquares(nums)\n",
    "print(\"Sorted Squares:\", result)\n"
   ]
  },
  {
   "cell_type": "markdown",
   "id": "4dc70b4c",
   "metadata": {},
   "source": [
    "#  **Question 7**\n",
    "# You are given an m x n matrix M initialized with all 0's and an array of operations ops, where ops[i] = [ai, bi] means M[x][y] should be incremented by one for all 0 <= x < ai and 0 <= y < bi.\n",
    "\n",
    "# Count and return *the number of maximum integers in the matrix after performing all the operations*\n",
    "\n",
    "# **Example 1:**\n",
    "\n",
    "# ![q4.jpg](https://s3-us-west-2.amazonaws.com/secure.notion-static.com/4d0890d0-7bc7-4f59-be8e-352d9f3c1c52/q4.jpg)\n",
    "\n",
    "# **Input:** m = 3, n = 3, ops = [[2,2],[3,3]]\n",
    "\n",
    "# **Output:** 4\n",
    "\n",
    "# **Explanation:** The maximum integer in M is 2, and there are four of it in M. So return 4."
   ]
  },
  {
   "cell_type": "code",
   "execution_count": 7,
   "id": "df27cf75",
   "metadata": {},
   "outputs": [
    {
     "name": "stdout",
     "output_type": "stream",
     "text": [
      "Count of Maximum Integers: 4\n"
     ]
    }
   ],
   "source": [
    "def maxCount(m, n, ops):\n",
    "    min_a = m\n",
    "    min_b = n\n",
    "\n",
    "    for op in ops:\n",
    "        min_a = min(min_a, op[0])\n",
    "        min_b = min(min_b, op[1])\n",
    "\n",
    "    return min_a * min_b\n",
    "\n",
    "# Test the function\n",
    "m = 3\n",
    "n = 3\n",
    "ops = [[2, 2], [3, 3]]\n",
    "result = maxCount(m, n, ops)\n",
    "print(\"Count of Maximum Integers:\", result)\n"
   ]
  },
  {
   "cell_type": "markdown",
   "id": "45a6f0be",
   "metadata": {},
   "source": [
    "#  **Question 8**\n",
    "\n",
    "# Given the array nums consisting of 2n elements in the form [x1,x2,...,xn,y1,y2,...,yn].\n",
    "\n",
    "# *Return the array in the form* [x1,y1,x2,y2,...,xn,yn].\n",
    "\n",
    "# **Example 1:**\n",
    "\n",
    "# **Input:** nums = [2,5,1,3,4,7], n = 3\n",
    "\n",
    "# **Output:** [2,3,5,4,1,7]\n",
    "\n",
    "# **Explanation:** Since x1=2, x2=5, x3=1, y1=3, y2=4, y3=7 then the answer is [2,3,5,4,1,7]."
   ]
  },
  {
   "cell_type": "code",
   "execution_count": 8,
   "id": "1b4ca24c",
   "metadata": {},
   "outputs": [
    {
     "name": "stdout",
     "output_type": "stream",
     "text": [
      "Shuffled Array: [2, 3, 5, 4, 1, 7]\n"
     ]
    }
   ],
   "source": [
    "def shuffle(nums, n):\n",
    "    result = []\n",
    "    for i in range(n):\n",
    "        result.append(nums[i])\n",
    "        result.append(nums[i + n])\n",
    "    return result\n",
    "\n",
    "# Test the function\n",
    "nums = [2, 5, 1, 3, 4, 7]\n",
    "n = 3\n",
    "result = shuffle(nums, n)\n",
    "print(\"Shuffled Array:\", result)\n"
   ]
  },
  {
   "cell_type": "code",
   "execution_count": null,
   "id": "427b6e01",
   "metadata": {},
   "outputs": [],
   "source": []
  }
 ],
 "metadata": {
  "kernelspec": {
   "display_name": "Python 3 (ipykernel)",
   "language": "python",
   "name": "python3"
  },
  "language_info": {
   "codemirror_mode": {
    "name": "ipython",
    "version": 3
   },
   "file_extension": ".py",
   "mimetype": "text/x-python",
   "name": "python",
   "nbconvert_exporter": "python",
   "pygments_lexer": "ipython3",
   "version": "3.9.12"
  }
 },
 "nbformat": 4,
 "nbformat_minor": 5
}
